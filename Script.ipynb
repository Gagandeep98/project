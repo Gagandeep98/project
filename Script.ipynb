{
 "cells": [
  {
   "cell_type": "code",
   "execution_count": 1,
   "id": "fce83aa4",
   "metadata": {},
   "outputs": [
    {
     "name": "stdout",
     "output_type": "stream",
     "text": [
      "Enter the number to reverse: 56\n",
      "The reversed number is : 65\n"
     ]
    }
   ],
   "source": [
    "# reverse_number.py\n",
    "\n",
    "user_input=int(input(\"Enter the number to reverse: \"))\n",
    "_rev=0\n",
    "while(user_input>0):\n",
    "  dig=user_input%10\n",
    "  _rev=_rev*10+dig\n",
    "  user_input=user_input//10\n",
    "print(\"The reversed number is :\",_rev)"
   ]
  },
  {
   "cell_type": "code",
   "execution_count": null,
   "id": "aa6bea95",
   "metadata": {},
   "outputs": [],
   "source": []
  }
 ],
 "metadata": {
  "kernelspec": {
   "display_name": "Python 3 (ipykernel)",
   "language": "python",
   "name": "python3"
  },
  "language_info": {
   "codemirror_mode": {
    "name": "ipython",
    "version": 3
   },
   "file_extension": ".py",
   "mimetype": "text/x-python",
   "name": "python",
   "nbconvert_exporter": "python",
   "pygments_lexer": "ipython3",
   "version": "3.9.13"
  }
 },
 "nbformat": 4,
 "nbformat_minor": 5
}
